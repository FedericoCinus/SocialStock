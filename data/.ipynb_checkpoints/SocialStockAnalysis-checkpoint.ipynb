{
 "cells": [
  {
   "cell_type": "markdown",
   "metadata": {},
   "source": [
    "## SocialStock Data Analysis\n",
    "\n",
    "This notebook has the following objectives:\n",
    "\n",
    "visualize the social network each day of the simulation\n",
    "extract quantitative information about its evolution"
   ]
  },
  {
   "cell_type": "code",
   "execution_count": null,
   "metadata": {},
   "outputs": [],
   "source": [
    "import networkx as nx\n",
    "import numpy as np\n",
    "import pandas as pd\n",
    "from matplotlib import pyplot as plt\n",
    "import matplotlib\n",
    "\n",
    "file = open(\"c5r10n20Int.txt\")\n",
    "tit = file.readline()\n",
    "print(tit)\n",
    "\n",
    "X = []\n",
    "nn = {}\n",
    "\n",
    "for l in file.readlines() :\n",
    "    line = l.split(\":\")\n",
    "    line[0:4] = [int(i) for i in line[0:4]]\n",
    "    line[4] = [int(i) for i in line[4][1:-2].split(\", \")]\n",
    "    X.append(line[0:4])\n",
    "    nn[ (line[0],line[1]) ] = line[4]\n",
    "\n",
    "X = np.array(X)"
   ]
  },
  {
   "cell_type": "code",
   "execution_count": null,
   "metadata": {},
   "outputs": [],
   "source": [
    "#draw network of Day1\n",
    "\n",
    "users = 20\n",
    "\n",
    "\n",
    "#SETTING INITIAL POSITION OF NODES \n",
    "G1 = nx.DiGraph()\n",
    "for u in range(users) : \n",
    "        for n in nn[(1,u)] :\n",
    "            G1.add_edge(u,n)\n",
    "cl = nx.circular_layout(G1)\n",
    "Xdf1 = Xdf[Xdf.uDays== 1] \n",
    "Xdfd1 = Xdf1.sort_values([\"incl\", \"index\"])\n",
    "cl1 = {}\n",
    "for i , j in enumerate(Xdfd1[\"index\"]):\n",
    "    cl1[j] = cl[i]"
   ]
  },
  {
   "cell_type": "code",
   "execution_count": null,
   "metadata": {},
   "outputs": [],
   "source": [
    "def Graphday(day) :\n",
    "    G = nx.DiGraph()\n",
    "    G.add_nodes_from(range(20))\n",
    "    Xdfd = Xdf[Xdf.uDays== day] \n",
    "    for u in range(users) : \n",
    "        for n in nn[(day,u)] :\n",
    "            G.add_edge(u,n)\n",
    "\n",
    "    colors = np.array([\"red\",\"green\",\"blue\"])\n",
    "\n",
    "    #red : inclination -1\n",
    "    #green : inclination 0\n",
    "    #blue : inclination 1 \n",
    "\n",
    "    cl = nx.circular_layout(G)\n",
    "    Xdfdp = Xdfd.sort_values([\"incl\", \"index\"])\n",
    "\n",
    "    node_cols = {}\n",
    "    for i , j in enumerate(Xdfdp[\"index\"]):\n",
    "        node_cols[j] = np.array(Xdfdp.incl)[i]\n",
    "\n",
    "    nx.draw_networkx(G,\n",
    "                     #withlabels=True, \n",
    "                     node_size= Xdfdp.deg*10, \n",
    "                     pos = cl1,\n",
    "                     node_color = [colors[i] for i in node_cols.values()]\n",
    "                    )\n"
   ]
  },
  {
   "cell_type": "code",
   "execution_count": null,
   "metadata": {},
   "outputs": [],
   "source": [
    "for i in range(1,15) :\n",
    "    Graphday(i)\n",
    "    title = \"img/day\" + str(i) + \".png\"\n",
    "    plt.savefig(title)\n",
    "    plt.close()"
   ]
  },
  {
   "cell_type": "code",
   "execution_count": null,
   "metadata": {},
   "outputs": [],
   "source": []
  },
  {
   "cell_type": "code",
   "execution_count": null,
   "metadata": {},
   "outputs": [],
   "source": []
  },
  {
   "cell_type": "code",
   "execution_count": null,
   "metadata": {},
   "outputs": [],
   "source": []
  },
  {
   "cell_type": "code",
   "execution_count": null,
   "metadata": {},
   "outputs": [],
   "source": []
  },
  {
   "cell_type": "code",
   "execution_count": null,
   "metadata": {},
   "outputs": [],
   "source": []
  },
  {
   "cell_type": "code",
   "execution_count": null,
   "metadata": {},
   "outputs": [],
   "source": []
  },
  {
   "cell_type": "code",
   "execution_count": null,
   "metadata": {},
   "outputs": [],
   "source": []
  },
  {
   "cell_type": "code",
   "execution_count": null,
   "metadata": {},
   "outputs": [],
   "source": []
  }
 ],
 "metadata": {
  "kernelspec": {
   "display_name": "Python 3",
   "language": "python",
   "name": "python3"
  },
  "language_info": {
   "codemirror_mode": {
    "name": "ipython",
    "version": 3
   },
   "file_extension": ".py",
   "mimetype": "text/x-python",
   "name": "python",
   "nbconvert_exporter": "python",
   "pygments_lexer": "ipython3",
   "version": "3.5.2"
  }
 },
 "nbformat": 4,
 "nbformat_minor": 2
}
