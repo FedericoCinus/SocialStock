{
 "cells": [
  {
   "cell_type": "markdown",
   "metadata": {},
   "source": [
    "# SocialStock Data Analysis\n",
    "\n",
    "This notebook has the following objectives:\n",
    "\n",
    "1) find equilibrium time in IncDistr vs time plot <br>\n",
    "2) visualize the social network each day of the simulation <br>\n",
    "3) show histogram about opinion sum and companies' indexes <br>\n",
    "4) find equilibrium time in opinions vs time plot"
   ]
  },
  {
   "cell_type": "code",
   "execution_count": 194,
   "metadata": {},
   "outputs": [],
   "source": [
    "# SETTING THE PARAMETERS\n",
    "companies=3\n",
    "op_range=5\n",
    "users=100\n",
    "\n",
    "gamma = 2.5"
   ]
  },
  {
   "cell_type": "code",
   "execution_count": 187,
   "metadata": {},
   "outputs": [],
   "source": [
    "# IMPORTING LIBRARIES\n",
    "import networkx as nx\n",
    "import pandas as pd\n",
    "\n",
    "import numpy as np\n",
    "#from matplotlib import pyplot as plt\n",
    "\n",
    "import seaborn as sns\n",
    "sns.set()"
   ]
  },
  {
   "cell_type": "code",
   "execution_count": 188,
   "metadata": {},
   "outputs": [
    {
     "name": "stdout",
     "output_type": "stream",
     "text": [
      "Populating the interactive namespace from numpy and matplotlib\n"
     ]
    },
    {
     "name": "stderr",
     "output_type": "stream",
     "text": [
      "/Library/Frameworks/Python.framework/Versions/3.6/lib/python3.6/site-packages/IPython/core/magics/pylab.py:160: UserWarning: pylab import has clobbered these variables: ['gamma']\n",
      "`%matplotlib` prevents importing * from pylab and numpy\n",
      "  \"\\n`%matplotlib` prevents importing * from pylab and numpy\"\n"
     ]
    }
   ],
   "source": [
    "%pylab inline"
   ]
  },
  {
   "cell_type": "markdown",
   "metadata": {},
   "source": [
    "## 1) Equilibrium time in IncDistr vs time plot "
   ]
  },
  {
   "cell_type": "code",
   "execution_count": 196,
   "metadata": {},
   "outputs": [],
   "source": [
    "def read_function(data):\n",
    "\n",
    "    feDays = 0\n",
    "    with open(data + 'Int2.txt', 'r') as f:\n",
    "        lines = f.read().splitlines()\n",
    "        last_line = lines[-1]\n",
    "        feDays = int(last_line.split(\":\")[0])   \n",
    "\n",
    "    fail = open( data + \"Int2.txt\")\n",
    "    tit = fail.readline()\n",
    "    lines = fail.readlines()\n",
    "    fail.close()\n",
    "\n",
    "    day_user = []\n",
    "    day_user_incl = [[0]*feDays]*users\n",
    "    Deg = [0]*users\n",
    "\n",
    "    for l in lines :\n",
    "        line = l.split(\":\")\n",
    "\n",
    "        try : \n",
    "            day = int(line[0])\n",
    "            user = int(line[1])\n",
    "            incl = int(line[2])\n",
    "            deg = int(line[3])\n",
    "\n",
    "            if [True]*4 == [isinstance(i, int) for i in [day, user, incl, deg]]:  \n",
    "                c = [day,user]\n",
    "                day_user.append(c)\n",
    "                day2 = day -1\n",
    "                try : \n",
    "                    day_user_incl[user][day2] = incl\n",
    "                except  IndexError :\n",
    "                    print(\"IndexError\")\n",
    "                    print(user,day2)\n",
    "                    print(\"\\n\")\n",
    "\n",
    "                Deg[user] = deg \n",
    "\n",
    "        except ValueError :\n",
    "            print(\"unreadable exception\")\n",
    "            print(line)\n",
    "            print(\"\\n\")\n",
    "\n",
    "    fail = open( data + \"Int2.txt\", 'a')\n",
    "\n",
    "    for d in range(feDays) : \n",
    "        for u in range(users) :  \n",
    "             if [d +1,u] not in day_user :\n",
    "                incl = day_user_incl[u][(d+2)%feDays]\n",
    "                deg = Deg[u]\n",
    "                callout = [i for i in (np.random.choice(users , deg , replace = False))]\n",
    "                string = '\\n' +str(d+1)+':'+str(u)+':'+str(incl)+':'+str(deg)+':'+str(callout)\n",
    "                fail.write(string)\n",
    "    fail.write('\\n')\n",
    "    fail.close()\n",
    "    \n",
    "    fail = open( data + \"Int2.txt\")\n",
    "    tit = fail.readline()\n",
    "    X = []\n",
    "    nn = {}\n",
    "\n",
    "    for l in fail.readlines() :\n",
    "        line = l.split(\":\")\n",
    "        line[0:4] = [int(i) for i in line[0:4]]\n",
    "        line[4] = line[4][1:-2].split(\", \")\n",
    "\n",
    "        if line[4][0] == \"\" :\n",
    "            line[4] = []\n",
    "        else : \n",
    "            line[4] = [int(i) for i in line[4]]\n",
    "            nn[ (line[0],line[1]) ] = line[4]\n",
    "\n",
    "        X.append(line[0:4])\n",
    "\n",
    "\n",
    "    X = np.array(X)\n",
    "    X = pd.DataFrame(X) \n",
    "\n",
    "    tit = tit.split(\"-\")[:-1]\n",
    "    X.columns = tit\n",
    "    X=X.sort_values([\"uDays\" , \"ind\"])\n",
    "    \n",
    "    return X, nn"
   ]
  },
  {
   "cell_type": "code",
   "execution_count": 201,
   "metadata": {},
   "outputs": [
    {
     "name": "stdout",
     "output_type": "stream",
     "text": [
      "/Users/Cinus/University/Magistrale_Sistemi_Complessi_Torino/MAS/GitHub/SocialStock/data/c3r5n100\n"
     ]
    },
    {
     "ename": "ValueError",
     "evalue": "invalid literal for int() with base 10: '\\n'",
     "output_type": "error",
     "traceback": [
      "\u001b[0;31m---------------------------------------------------------------------------\u001b[0m",
      "\u001b[0;31mValueError\u001b[0m                                Traceback (most recent call last)",
      "\u001b[0;32m<ipython-input-201-edd0e137a46c>\u001b[0m in \u001b[0;36m<module>\u001b[0;34m()\u001b[0m\n\u001b[1;32m      4\u001b[0m \u001b[0mdata\u001b[0m \u001b[0;34m=\u001b[0m \u001b[0mstr\u001b[0m\u001b[0;34m(\u001b[0m\u001b[0md\u001b[0m\u001b[0;34m)\u001b[0m \u001b[0;34m+\u001b[0m \u001b[0;34m\"/data/c\"\u001b[0m\u001b[0;34m+\u001b[0m\u001b[0mstr\u001b[0m\u001b[0;34m(\u001b[0m\u001b[0mcompanies\u001b[0m\u001b[0;34m)\u001b[0m\u001b[0;34m+\u001b[0m\u001b[0;34m\"r\"\u001b[0m\u001b[0;34m+\u001b[0m\u001b[0mstr\u001b[0m\u001b[0;34m(\u001b[0m\u001b[0mop_range\u001b[0m\u001b[0;34m)\u001b[0m\u001b[0;34m+\u001b[0m\u001b[0;34m\"n\"\u001b[0m\u001b[0;34m+\u001b[0m\u001b[0mstr\u001b[0m\u001b[0;34m(\u001b[0m\u001b[0musers\u001b[0m\u001b[0;34m)\u001b[0m\u001b[0;34m\u001b[0m\u001b[0m\n\u001b[1;32m      5\u001b[0m \u001b[0mprint\u001b[0m\u001b[0;34m(\u001b[0m\u001b[0mdata\u001b[0m\u001b[0;34m)\u001b[0m\u001b[0;34m\u001b[0m\u001b[0m\n\u001b[0;32m----> 6\u001b[0;31m \u001b[0mX\u001b[0m\u001b[0;34m,\u001b[0m \u001b[0mnn\u001b[0m \u001b[0;34m=\u001b[0m \u001b[0mread_function\u001b[0m\u001b[0;34m(\u001b[0m\u001b[0mdata\u001b[0m\u001b[0;34m)\u001b[0m\u001b[0;34m\u001b[0m\u001b[0m\n\u001b[0m",
      "\u001b[0;32m<ipython-input-196-d22c76daed20>\u001b[0m in \u001b[0;36mread_function\u001b[0;34m(data)\u001b[0m\n\u001b[1;32m     63\u001b[0m     \u001b[0;32mfor\u001b[0m \u001b[0ml\u001b[0m \u001b[0;32min\u001b[0m \u001b[0mfail\u001b[0m\u001b[0;34m.\u001b[0m\u001b[0mreadlines\u001b[0m\u001b[0;34m(\u001b[0m\u001b[0;34m)\u001b[0m \u001b[0;34m:\u001b[0m\u001b[0;34m\u001b[0m\u001b[0m\n\u001b[1;32m     64\u001b[0m         \u001b[0mline\u001b[0m \u001b[0;34m=\u001b[0m \u001b[0ml\u001b[0m\u001b[0;34m.\u001b[0m\u001b[0msplit\u001b[0m\u001b[0;34m(\u001b[0m\u001b[0;34m\":\"\u001b[0m\u001b[0;34m)\u001b[0m\u001b[0;34m\u001b[0m\u001b[0m\n\u001b[0;32m---> 65\u001b[0;31m         \u001b[0mline\u001b[0m\u001b[0;34m[\u001b[0m\u001b[0;36m0\u001b[0m\u001b[0;34m:\u001b[0m\u001b[0;36m4\u001b[0m\u001b[0;34m]\u001b[0m \u001b[0;34m=\u001b[0m \u001b[0;34m[\u001b[0m\u001b[0mint\u001b[0m\u001b[0;34m(\u001b[0m\u001b[0mi\u001b[0m\u001b[0;34m)\u001b[0m \u001b[0;32mfor\u001b[0m \u001b[0mi\u001b[0m \u001b[0;32min\u001b[0m \u001b[0mline\u001b[0m\u001b[0;34m[\u001b[0m\u001b[0;36m0\u001b[0m\u001b[0;34m:\u001b[0m\u001b[0;36m4\u001b[0m\u001b[0;34m]\u001b[0m\u001b[0;34m]\u001b[0m\u001b[0;34m\u001b[0m\u001b[0m\n\u001b[0m\u001b[1;32m     66\u001b[0m         \u001b[0mline\u001b[0m\u001b[0;34m[\u001b[0m\u001b[0;36m4\u001b[0m\u001b[0;34m]\u001b[0m \u001b[0;34m=\u001b[0m \u001b[0mline\u001b[0m\u001b[0;34m[\u001b[0m\u001b[0;36m4\u001b[0m\u001b[0;34m]\u001b[0m\u001b[0;34m[\u001b[0m\u001b[0;36m1\u001b[0m\u001b[0;34m:\u001b[0m\u001b[0;34m-\u001b[0m\u001b[0;36m2\u001b[0m\u001b[0;34m]\u001b[0m\u001b[0;34m.\u001b[0m\u001b[0msplit\u001b[0m\u001b[0;34m(\u001b[0m\u001b[0;34m\", \"\u001b[0m\u001b[0;34m)\u001b[0m\u001b[0;34m\u001b[0m\u001b[0m\n\u001b[1;32m     67\u001b[0m \u001b[0;34m\u001b[0m\u001b[0m\n",
      "\u001b[0;32m<ipython-input-196-d22c76daed20>\u001b[0m in \u001b[0;36m<listcomp>\u001b[0;34m(.0)\u001b[0m\n\u001b[1;32m     63\u001b[0m     \u001b[0;32mfor\u001b[0m \u001b[0ml\u001b[0m \u001b[0;32min\u001b[0m \u001b[0mfail\u001b[0m\u001b[0;34m.\u001b[0m\u001b[0mreadlines\u001b[0m\u001b[0;34m(\u001b[0m\u001b[0;34m)\u001b[0m \u001b[0;34m:\u001b[0m\u001b[0;34m\u001b[0m\u001b[0m\n\u001b[1;32m     64\u001b[0m         \u001b[0mline\u001b[0m \u001b[0;34m=\u001b[0m \u001b[0ml\u001b[0m\u001b[0;34m.\u001b[0m\u001b[0msplit\u001b[0m\u001b[0;34m(\u001b[0m\u001b[0;34m\":\"\u001b[0m\u001b[0;34m)\u001b[0m\u001b[0;34m\u001b[0m\u001b[0m\n\u001b[0;32m---> 65\u001b[0;31m         \u001b[0mline\u001b[0m\u001b[0;34m[\u001b[0m\u001b[0;36m0\u001b[0m\u001b[0;34m:\u001b[0m\u001b[0;36m4\u001b[0m\u001b[0;34m]\u001b[0m \u001b[0;34m=\u001b[0m \u001b[0;34m[\u001b[0m\u001b[0mint\u001b[0m\u001b[0;34m(\u001b[0m\u001b[0mi\u001b[0m\u001b[0;34m)\u001b[0m \u001b[0;32mfor\u001b[0m \u001b[0mi\u001b[0m \u001b[0;32min\u001b[0m \u001b[0mline\u001b[0m\u001b[0;34m[\u001b[0m\u001b[0;36m0\u001b[0m\u001b[0;34m:\u001b[0m\u001b[0;36m4\u001b[0m\u001b[0;34m]\u001b[0m\u001b[0;34m]\u001b[0m\u001b[0;34m\u001b[0m\u001b[0m\n\u001b[0m\u001b[1;32m     66\u001b[0m         \u001b[0mline\u001b[0m\u001b[0;34m[\u001b[0m\u001b[0;36m4\u001b[0m\u001b[0;34m]\u001b[0m \u001b[0;34m=\u001b[0m \u001b[0mline\u001b[0m\u001b[0;34m[\u001b[0m\u001b[0;36m4\u001b[0m\u001b[0;34m]\u001b[0m\u001b[0;34m[\u001b[0m\u001b[0;36m1\u001b[0m\u001b[0;34m:\u001b[0m\u001b[0;34m-\u001b[0m\u001b[0;36m2\u001b[0m\u001b[0;34m]\u001b[0m\u001b[0;34m.\u001b[0m\u001b[0msplit\u001b[0m\u001b[0;34m(\u001b[0m\u001b[0;34m\", \"\u001b[0m\u001b[0;34m)\u001b[0m\u001b[0;34m\u001b[0m\u001b[0m\n\u001b[1;32m     67\u001b[0m \u001b[0;34m\u001b[0m\u001b[0m\n",
      "\u001b[0;31mValueError\u001b[0m: invalid literal for int() with base 10: '\\n'"
     ]
    }
   ],
   "source": [
    "# IMPORTING DATASET FOR 1) AND 2)\n",
    "from pathlib import Path\n",
    "d = Path().resolve().parent \n",
    "data = str(d) + \"/data/c\"+str(companies)+\"r\"+str(op_range)+\"n\"+str(users)\n",
    "print(data)\n",
    "X, nn = read_function(data)"
   ]
  },
  {
   "cell_type": "code",
   "execution_count": null,
   "metadata": {},
   "outputs": [],
   "source": [
    "#dataframe first day\n",
    "X1 = X[X.uDays==1]\n",
    "uDays = len(X.uDays.unique())\n",
    "Deg = np.array(X1.sort_values(\"ind\").deg)"
   ]
  },
  {
   "cell_type": "code",
   "execution_count": 199,
   "metadata": {},
   "outputs": [],
   "source": [
    "# key : indice dello user\n",
    "# value : lista con gli indici della callout list \n",
    "nearest_neighbours = {}\n",
    "\n",
    "for d in range(uDays) :\n",
    "    nearest_neighbours[d+1] = {}\n",
    "    for u in range(users) :\n",
    "        nearest_neighbours[d+1][u] = nn[(d+1,u)]"
   ]
  },
  {
   "cell_type": "code",
   "execution_count": 200,
   "metadata": {},
   "outputs": [
    {
     "data": {
      "text/plain": [
       "Text(0,0.5,'$IncDistr$')"
      ]
     },
     "execution_count": 200,
     "metadata": {},
     "output_type": "execute_result"
    },
    {
     "data": {
      "image/png": "[encoded data removed]",
      "text/plain": [
       "<matplotlib.figure.Figure at 0x1170f4b00>"
      ]
     },
     "metadata": {},
     "output_type": "display_data"
    }
   ],
   "source": [
    "IncDistr = []\n",
    "for d in range(uDays):\n",
    "    all_incl=list(X[X.uDays==d+1].incl)\n",
    "    IncDistr.append( [all_incl.count(-1), all_incl.count(0), all_incl.count(1)] )\n",
    "IncDistr = np.array(IncDistr)\n",
    "\n",
    "plt.figure(figsize=(10,7))\n",
    "plt.scatter(y=IncDistr[:,0] , x=range(uDays) , color = \"red\" )\n",
    "plt.scatter(y=IncDistr[:,1] , x=range(uDays) , color = \"green\")\n",
    "plt.scatter(y=IncDistr[:,2] , x=range(uDays) , color = \"blue\")\n",
    "\n",
    "plt.xticks(fontsize=12)\n",
    "plt.yticks(fontsize=12)\n",
    "plt.xlabel('$time$', fontsize=17)\n",
    "plt.ylabel('$IncDistr$', fontsize=17)"
   ]
  },
  {
   "cell_type": "code",
   "execution_count": null,
   "metadata": {},
   "outputs": [],
   "source": []
  },
  {
   "cell_type": "code",
   "execution_count": null,
   "metadata": {},
   "outputs": [],
   "source": [
    "t=0\n",
    "IncDistr_t=[]\n",
    "for i in IncDistr:\n",
    "    if( np.array_equal(i,IncDistr_t) ):\n",
    "        print('Equilibrium time is '+ str(t))\n",
    "        break\n",
    "    else: \n",
    "        IncDistr_t=[j for j in i]\n",
    "        t+=1"
   ]
  },
  {
   "cell_type": "code",
   "execution_count": null,
   "metadata": {},
   "outputs": [],
   "source": [
    "# OPINION MATRIX\n",
    "\n",
    "fail = open( data + \".txt\")\n",
    "tit = fail.readline()\n",
    "\n",
    "Op = []\n",
    "\n",
    "for l in fail.readlines() :\n",
    "    line = (l.split(\",\"))\n",
    "    line[companies-1] = line[companies-1][:-2]\n",
    "    line = [float(i) for i in line]\n",
    "    Op.append(line)\n",
    "    \n",
    "# O is a dictionary with: (key : day) (value : opinion matrix of that day)    \n",
    "O = {}\n",
    "index = 0\n",
    "for d in range(uDays) :\n",
    "    O[d+1] = np.array(Op[index:(index + users)])\n",
    "    index = index + users"
   ]
  },
  {
   "cell_type": "markdown",
   "metadata": {},
   "source": [
    "## 2) Visualize Network of Day 1"
   ]
  },
  {
   "cell_type": "code",
   "execution_count": null,
   "metadata": {},
   "outputs": [],
   "source": [
    "def Graphday(X , day) :\n",
    "    G1 = nx.Graph()\n",
    "    X1 = X[X.uDays == day]\n",
    "    X1 = X1.sort_values([\"ind\"])\n",
    "\n",
    "    for u in range(users) : \n",
    "            for n in nearest_neighbours[day][u] :\n",
    "                G1.add_edge(u,n)\n",
    "\n",
    "    pos1 = nx.circular_layout(G1)\n",
    "    incols = np.array([\"red\",\"green\",\"blue\"])\n",
    "\n",
    "    m = np.sum(O[day] , axis =1)\n",
    "    for i in range(users) :\n",
    "        pos1[i][0] = m[i] + np.random.normal(scale =0.2)\n",
    "        pos1[i][1] += np.random.normal(scale =0.2)\n",
    "\n",
    "    plt.figure(1,figsize=(15,12)) \n",
    "    plt.xlim( (np.min(m) -1 , np.max(m) +1) )\n",
    "    nx.draw_networkx(G1,\n",
    "                     node_size= X1.deg*100, \n",
    "                     pos = pos1,\n",
    "                     node_color= incols[np.array(X1.incl +1)], \n",
    "                     with_labels=False,\n",
    "                     width=0.1)\n",
    "    \n",
    "    \n",
    "Graphday(X,1)\n",
    "plt.show()"
   ]
  },
  {
   "cell_type": "code",
   "execution_count": null,
   "metadata": {},
   "outputs": [],
   "source": [
    "# DEGREE DISTRIBUTION\n",
    "plt.hist(X1.deg, range=(0,20))\n",
    "plt.show()"
   ]
  },
  {
   "cell_type": "markdown",
   "metadata": {},
   "source": [
    "## 4) Equilibrium time in sum(opinions) vs time plot "
   ]
  },
  {
   "cell_type": "code",
   "execution_count": null,
   "metadata": {},
   "outputs": [],
   "source": [
    "# defining dictiorary time: sum of opinions at that time\n",
    "O_t={}\n",
    "for i in O.keys():\n",
    "    # list of vector to sum\n",
    "    vec_list=[O[i][j] for j in range(users)]\n",
    "    # summing vectors\n",
    "    O_t[i] = np.sum( vec_list, axis=0 )\n",
    "#O_t"
   ]
  },
  {
   "cell_type": "code",
   "execution_count": null,
   "metadata": {},
   "outputs": [],
   "source": [
    "plt.figure(figsize=(10,7))\n",
    "for i in range(companies):\n",
    "    Y_comp=[O_t[j+1][i] for j in range(uDays)]\n",
    "    plt.scatter( y=Y_comp , x=range(uDays) )\n",
    "\n",
    "plt.xticks(fontsize=12)\n",
    "plt.yticks(fontsize=12)\n",
    "plt.xlabel('$time$', fontsize=17)\n",
    "plt.ylabel('$Opinions$', fontsize=17)"
   ]
  },
  {
   "cell_type": "code",
   "execution_count": null,
   "metadata": {},
   "outputs": [],
   "source": [
    "t=0\n",
    "for i in range(len(Y_comp)):\n",
    "    #print(Y_comp[i])\n",
    "    if( np.array_equal(Y_comp[i],Y_comp[i+6])):\n",
    "        print('Equilibrium time is '+ str(t))\n",
    "        break\n",
    "    else: \n",
    "        t+=1"
   ]
  },
  {
   "cell_type": "markdown",
   "metadata": {},
   "source": [
    "##### 3) Histrogram opinions - companies"
   ]
  },
  {
   "cell_type": "code",
   "execution_count": null,
   "metadata": {},
   "outputs": [],
   "source": [
    "# CHOOSE DAY\n",
    "day=1\n",
    "plt.figure(figsize=(10,7))\n",
    "\n",
    "colors=[]\n",
    "for i in O_t[day]:\n",
    "    if(i<0): colors.append('red')\n",
    "    if(i>0): colors.append('blue')\n",
    "        \n",
    "# histogram\n",
    "bar([i for i in range(companies)], list(O_t[day]), color=np.array(colors))\n",
    "\n",
    "plt.xticks(fontsize=12)\n",
    "plt.yticks(fontsize=12)\n",
    "plt.ylabel('$Cumulative-Opinion$', fontsize=17)\n",
    "plt.xlabel('$Company-index$', fontsize=17)"
   ]
  },
  {
   "cell_type": "code",
   "execution_count": null,
   "metadata": {},
   "outputs": [],
   "source": []
  },
  {
   "cell_type": "code",
   "execution_count": null,
   "metadata": {},
   "outputs": [],
   "source": []
  },
  {
   "cell_type": "code",
   "execution_count": null,
   "metadata": {},
   "outputs": [],
   "source": []
  },
  {
   "cell_type": "code",
   "execution_count": null,
   "metadata": {},
   "outputs": [],
   "source": []
  },
  {
   "cell_type": "code",
   "execution_count": null,
   "metadata": {},
   "outputs": [],
   "source": []
  },
  {
   "cell_type": "code",
   "execution_count": null,
   "metadata": {},
   "outputs": [],
   "source": []
  },
  {
   "cell_type": "code",
   "execution_count": null,
   "metadata": {},
   "outputs": [],
   "source": []
  },
  {
   "cell_type": "code",
   "execution_count": null,
   "metadata": {},
   "outputs": [],
   "source": []
  },
  {
   "cell_type": "code",
   "execution_count": null,
   "metadata": {},
   "outputs": [],
   "source": []
  },
  {
   "cell_type": "code",
   "execution_count": null,
   "metadata": {},
   "outputs": [],
   "source": []
  },
  {
   "cell_type": "code",
   "execution_count": null,
   "metadata": {},
   "outputs": [],
   "source": []
  },
  {
   "cell_type": "code",
   "execution_count": null,
   "metadata": {},
   "outputs": [],
   "source": [
    "feX = pd.Series( [np.array([1,2,3]) , np.array([4,6]), np.array([4,6,4])])\n",
    "feX.name = \"arrays\"\n",
    "feX"
   ]
  },
  {
   "cell_type": "code",
   "execution_count": null,
   "metadata": {},
   "outputs": [],
   "source": []
  },
  {
   "cell_type": "code",
   "execution_count": null,
   "metadata": {},
   "outputs": [],
   "source": []
  },
  {
   "cell_type": "code",
   "execution_count": null,
   "metadata": {},
   "outputs": [],
   "source": []
  },
  {
   "cell_type": "code",
   "execution_count": null,
   "metadata": {},
   "outputs": [],
   "source": []
  }
 ],
 "metadata": {
  "kernelspec": {
   "display_name": "Python 3",
   "language": "python",
   "name": "python3"
  },
  "language_info": {
   "codemirror_mode": {
    "name": "ipython",
    "version": 3
   },
   "file_extension": ".py",
   "mimetype": "text/x-python",
   "name": "python",
   "nbconvert_exporter": "python",
   "pygments_lexer": "ipython3",
   "version": "3.6.0"
  }
 },
 "nbformat": 4,
 "nbformat_minor": 2
}
