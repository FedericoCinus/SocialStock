{
 "cells": [
  {
   "cell_type": "markdown",
   "metadata": {},
   "source": [
    "# SocialStock Data Analysis\n",
    "\n",
    "This notebook has the following objectives:\n",
    "\n",
    "1) find equilibrium time in IncDistr vs time plot <br>\n",
    "2) visualize the social network each day of the simulation <br>\n",
    "3) show histogram about opinion sum and companies' indexes <br>\n",
    "4) find equilibrium time in opinions vs time plot"
   ]
  },
  {
   "cell_type": "code",
   "execution_count": 66,
   "metadata": {},
   "outputs": [],
   "source": [
    "# SETTING THE PARAMETERS\n",
    "companies=3\n",
    "op_range=5\n",
    "users=100\n",
    "\n",
    "gamma = 2.5"
   ]
  },
  {
   "cell_type": "code",
   "execution_count": 67,
   "metadata": {},
   "outputs": [],
   "source": [
    "# IMPORTING LIBRARIES\n",
    "import networkx as nx\n",
    "import pandas as pd\n",
    "\n",
    "import numpy as np\n",
    "#from matplotlib import pyplot as plt\n",
    "\n",
    "import seaborn as sns\n",
    "sns.set()"
   ]
  },
  {
   "cell_type": "code",
   "execution_count": 68,
   "metadata": {},
   "outputs": [
    {
     "name": "stdout",
     "output_type": "stream",
     "text": [
      "Populating the interactive namespace from numpy and matplotlib\n"
     ]
    },
    {
     "name": "stderr",
     "output_type": "stream",
     "text": [
      "/Library/Frameworks/Python.framework/Versions/3.6/lib/python3.6/site-packages/IPython/core/magics/pylab.py:160: UserWarning: pylab import has clobbered these variables: ['gamma']\n",
      "`%matplotlib` prevents importing * from pylab and numpy\n",
      "  \"\\n`%matplotlib` prevents importing * from pylab and numpy\"\n"
     ]
    }
   ],
   "source": [
    "%pylab inline"
   ]
  },
  {
   "cell_type": "markdown",
   "metadata": {},
   "source": [
    "## 1) Equilibrium time in IncDistr vs time plot "
   ]
  },
  {
   "cell_type": "code",
   "execution_count": 69,
   "metadata": {},
   "outputs": [
    {
     "name": "stdout",
     "output_type": "stream",
     "text": [
      "/Users/Cinus/University/Magistrale_Sistemi_Complessi_Torino/MAS/GitHub/SocialStock\n"
     ]
    }
   ],
   "source": [
    "from pathlib import Path\n",
    "d = Path().resolve().parent \n",
    "print(str(d))"
   ]
  },
  {
   "cell_type": "code",
   "execution_count": 122,
   "metadata": {},
   "outputs": [
    {
     "name": "stdout",
     "output_type": "stream",
     "text": [
      "/Users/Cinus/University/Magistrale_Sistemi_Complessi_Torino/MAS/GitHub/SocialStock/data/c3r5n100\n"
     ]
    }
   ],
   "source": [
    "# IMPORTING DATASET FOR 1) AND 2)\n",
    "from pathlib import Path\n",
    "d = Path().resolve().parent \n",
    "data = str(d) + \"/data/c\"+str(companies)+\"r\"+str(op_range)+\"n\"+str(users)\n",
    "print(data)\n",
    "fail = open( data + \"Int2.txt\")\n",
    "\n",
    "tit = fail.readline()\n",
    "\n",
    "X = []\n",
    "nn = {}\n",
    "\n",
    "for l in fail.readlines() :\n",
    "    #print(line)\n",
    "    line = l.split(\":\")\n",
    "    #print(line)\n",
    "    #print(line[0:4])\n",
    "    line[0:4] = [int(i) for i in line[0:4]]\n",
    "    line[4] = line[4][1:-2].split(\", \")\n",
    "    \n",
    "    ############DELAING WITH 0-DEGREE USERS#####\n",
    "    if line[4][0] == \"\" :\n",
    "        line[4] = []\n",
    "    else : \n",
    "        line[4] = [int(i) for i in line[4]]\n",
    "    ############################################\n",
    "\n",
    "    X.append(line[0:4])\n",
    "    nn[ (line[0],line[1]) ] = line[4]\n",
    "\n",
    "X = np.array(X)\n",
    "X = pd.DataFrame(X) \n",
    "\n",
    "tit = tit.split(\"-\")[:-1]\n",
    "X.columns = tit\n",
    "X.sort_values([\"uDays\" , \"ind\"])\n",
    "\n",
    "X1 = X[X.uDays==1]\n",
    "\n",
    "uDays = len(X.uDays.unique())\n",
    "Deg = np.array(X1.sort_values(\"ind\").deg)\n",
    "\n",
    "##nearest_neighbours[4]"
   ]
  },
  {
   "cell_type": "code",
   "execution_count": 124,
   "metadata": {},
   "outputs": [
    {
     "name": "stdout",
     "output_type": "stream",
     "text": [
      "1\n",
      "42 66\n"
     ]
    }
   ],
   "source": [
    "user_mancanti = users*uDays - X.count()[0]\n",
    "print(user_mancanti)\n",
    "for i in range(uDays):\n",
    "    for j in range(users):\n",
    "        if(not( ( (X['uDays']==i+1) & (X['ind']==j) ).any())):\n",
    "            index1=i+1\n",
    "            index2=j\n",
    "            print(str(i) + ' ' + str(j))\n",
    "            fail = open( data + \"Int2.txt\", 'w')\n",
    "            incl = X[X.uDays==((index1+1)%uDays)].values[j][2]\n",
    "            deg = \n",
    "            callout = \n",
    "            string = str(index1)+':'+str(index2)+':'+str(incl)+':'+str(deg)+':'+str(callout)+'\\n'\n",
    "            fail.write()\n"
   ]
  },
  {
   "cell_type": "code",
   "execution_count": null,
   "metadata": {},
   "outputs": [],
   "source": [
    "#cella Cinus"
   ]
  },
  {
   "cell_type": "code",
   "execution_count": null,
   "metadata": {},
   "outputs": [],
   "source": [
    "#cella Caghineri"
   ]
  },
  {
   "cell_type": "code",
   "execution_count": null,
   "metadata": {},
   "outputs": [],
   "source": []
  },
  {
   "cell_type": "code",
   "execution_count": null,
   "metadata": {},
   "outputs": [],
   "source": []
  },
  {
   "cell_type": "code",
   "execution_count": null,
   "metadata": {},
   "outputs": [],
   "source": []
  },
  {
   "cell_type": "code",
   "execution_count": 104,
   "metadata": {},
   "outputs": [
    {
     "ename": "KeyError",
     "evalue": "(43, 66)",
     "output_type": "error",
     "traceback": [
      "\u001b[0;31m---------------------------------------------------------------------------\u001b[0m",
      "\u001b[0;31mKeyError\u001b[0m                                  Traceback (most recent call last)",
      "\u001b[0;32m<ipython-input-104-a4bc1030cc7b>\u001b[0m in \u001b[0;36m<module>\u001b[0;34m()\u001b[0m\n\u001b[1;32m      9\u001b[0m     \u001b[0mnearest_neighbours\u001b[0m\u001b[0;34m[\u001b[0m\u001b[0md\u001b[0m\u001b[0;34m+\u001b[0m\u001b[0;36m1\u001b[0m\u001b[0;34m]\u001b[0m \u001b[0;34m=\u001b[0m \u001b[0;34m{\u001b[0m\u001b[0;34m}\u001b[0m\u001b[0;34m\u001b[0m\u001b[0m\n\u001b[1;32m     10\u001b[0m     \u001b[0;32mfor\u001b[0m \u001b[0mu\u001b[0m \u001b[0;32min\u001b[0m \u001b[0mrange\u001b[0m\u001b[0;34m(\u001b[0m\u001b[0musers\u001b[0m\u001b[0;34m)\u001b[0m \u001b[0;34m:\u001b[0m\u001b[0;34m\u001b[0m\u001b[0m\n\u001b[0;32m---> 11\u001b[0;31m         \u001b[0mnearest_neighbours\u001b[0m\u001b[0;34m[\u001b[0m\u001b[0md\u001b[0m\u001b[0;34m+\u001b[0m\u001b[0;36m1\u001b[0m\u001b[0;34m]\u001b[0m\u001b[0;34m[\u001b[0m\u001b[0mu\u001b[0m\u001b[0;34m]\u001b[0m \u001b[0;34m=\u001b[0m \u001b[0mnn\u001b[0m\u001b[0;34m[\u001b[0m\u001b[0;34m(\u001b[0m\u001b[0md\u001b[0m\u001b[0;34m+\u001b[0m\u001b[0;36m1\u001b[0m\u001b[0;34m,\u001b[0m\u001b[0mu\u001b[0m\u001b[0;34m)\u001b[0m\u001b[0;34m]\u001b[0m\u001b[0;34m\u001b[0m\u001b[0m\n\u001b[0m",
      "\u001b[0;31mKeyError\u001b[0m: (43, 66)"
     ]
    }
   ],
   "source": [
    "#dizionario dei nearest neighbours nel quarto giorno\n",
    "#si hanno tante key-value pairs quante gli user\n",
    "\n",
    "# key : indice dello user\n",
    "# value : lista con gli indici della callout list \n",
    "nearest_neighbours = {}\n",
    "\n",
    "for d in range(uDays) :\n",
    "    nearest_neighbours[d+1] = {}\n",
    "    for u in range(users) :\n",
    "        nearest_neighbours[d+1][u] = nn[(d+1,u)]"
   ]
  },
  {
   "cell_type": "code",
   "execution_count": 32,
   "metadata": {},
   "outputs": [
    {
     "ename": "AttributeError",
     "evalue": "'list' object has no attribute 'uDays'",
     "output_type": "error",
     "traceback": [
      "\u001b[0;31m---------------------------------------------------------------------------\u001b[0m",
      "\u001b[0;31mAttributeError\u001b[0m                            Traceback (most recent call last)",
      "\u001b[0;32m<ipython-input-32-152f652564a9>\u001b[0m in \u001b[0;36m<module>\u001b[0;34m()\u001b[0m\n\u001b[1;32m      1\u001b[0m \u001b[0mIncDistr\u001b[0m \u001b[0;34m=\u001b[0m \u001b[0;34m[\u001b[0m\u001b[0;34m]\u001b[0m\u001b[0;34m\u001b[0m\u001b[0m\n\u001b[1;32m      2\u001b[0m \u001b[0;32mfor\u001b[0m \u001b[0md\u001b[0m \u001b[0;32min\u001b[0m \u001b[0mrange\u001b[0m\u001b[0;34m(\u001b[0m\u001b[0muDays\u001b[0m\u001b[0;34m)\u001b[0m\u001b[0;34m:\u001b[0m\u001b[0;34m\u001b[0m\u001b[0m\n\u001b[0;32m----> 3\u001b[0;31m     \u001b[0mIncDistr\u001b[0m\u001b[0;34m.\u001b[0m\u001b[0mappend\u001b[0m\u001b[0;34m(\u001b[0m\u001b[0mnp\u001b[0m\u001b[0;34m.\u001b[0m\u001b[0munique\u001b[0m\u001b[0;34m(\u001b[0m\u001b[0mX\u001b[0m\u001b[0;34m[\u001b[0m\u001b[0mX\u001b[0m\u001b[0;34m.\u001b[0m\u001b[0muDays\u001b[0m\u001b[0;34m==\u001b[0m\u001b[0md\u001b[0m\u001b[0;34m+\u001b[0m\u001b[0;36m1\u001b[0m\u001b[0;34m]\u001b[0m\u001b[0;34m.\u001b[0m\u001b[0mincl\u001b[0m\u001b[0;34m,\u001b[0m \u001b[0mreturn_counts\u001b[0m\u001b[0;34m=\u001b[0m \u001b[0;32mTrue\u001b[0m\u001b[0;34m)\u001b[0m\u001b[0;34m[\u001b[0m\u001b[0;36m1\u001b[0m\u001b[0;34m]\u001b[0m\u001b[0;34m)\u001b[0m\u001b[0;34m\u001b[0m\u001b[0m\n\u001b[0m\u001b[1;32m      4\u001b[0m \u001b[0mIncDistr\u001b[0m \u001b[0;34m=\u001b[0m \u001b[0mnp\u001b[0m\u001b[0;34m.\u001b[0m\u001b[0marray\u001b[0m\u001b[0;34m(\u001b[0m\u001b[0mIncDistr\u001b[0m\u001b[0;34m)\u001b[0m\u001b[0;34m\u001b[0m\u001b[0m\n\u001b[1;32m      5\u001b[0m \u001b[0;34m\u001b[0m\u001b[0m\n",
      "\u001b[0;31mAttributeError\u001b[0m: 'list' object has no attribute 'uDays'"
     ]
    }
   ],
   "source": [
    "IncDistr = []\n",
    "for d in range(uDays):\n",
    "    IncDistr.append(np.unique(X[X.uDays==d+1].incl, return_counts= True)[1])\n",
    "IncDistr = np.array(IncDistr)\n",
    "\n",
    "plt.figure(figsize=(10,7))\n",
    "plt.scatter(y=IncDistr[:,0] , x=range(uDays) , color = \"red\" )\n",
    "plt.scatter(y=IncDistr[:,1] , x=range(uDays) , color = \"green\")\n",
    "plt.scatter(y=IncDistr[:,2] , x=range(uDays) , color = \"blue\")\n",
    "\n",
    "plt.xticks(fontsize=12)\n",
    "plt.yticks(fontsize=12)\n",
    "plt.xlabel('$time$', fontsize=17)\n",
    "plt.ylabel('$IncDistr$', fontsize=17)"
   ]
  },
  {
   "cell_type": "code",
   "execution_count": 20,
   "metadata": {},
   "outputs": [],
   "source": [
    "t=0\n",
    "IncDistr_t=[]\n",
    "for i in IncDistr:\n",
    "    if( np.array_equal(i,IncDistr_t) ):\n",
    "        print('Equilibrium time is '+ str(t))\n",
    "        break\n",
    "    else: \n",
    "        IncDistr_t=[j for j in i]\n",
    "        t+=1"
   ]
  },
  {
   "cell_type": "code",
   "execution_count": 21,
   "metadata": {},
   "outputs": [],
   "source": [
    "# OPINION MATRIX\n",
    "\n",
    "fail = open( data + \".txt\")\n",
    "tit = failfile.readline()\n",
    "\n",
    "Op = []\n",
    "\n",
    "for l in fail.readlines() :\n",
    "    line = (l.split(\",\"))\n",
    "    line[companies-1] = line[companies-1][:-2]\n",
    "    line = [float(i) for i in line]\n",
    "    Op.append(line)\n",
    "    \n",
    "# O is a dictionary with: (key : day) (value : opinion matrix of that day)    \n",
    "O = {}\n",
    "index = 0\n",
    "for d in range(uDays) :\n",
    "    O[d+1] = np.array(Op[index:(index + users)])\n",
    "    index = index + users"
   ]
  },
  {
   "cell_type": "markdown",
   "metadata": {},
   "source": [
    "## 2) Visualize Network of Day 1"
   ]
  },
  {
   "cell_type": "code",
   "execution_count": 22,
   "metadata": {},
   "outputs": [
    {
     "ename": "KeyError",
     "evalue": "0",
     "output_type": "error",
     "traceback": [
      "\u001b[0;31m---------------------------------------------------------------------------\u001b[0m",
      "\u001b[0;31mKeyError\u001b[0m                                  Traceback (most recent call last)",
      "\u001b[0;32m<ipython-input-22-c8471d7fcd9d>\u001b[0m in \u001b[0;36m<module>\u001b[0;34m()\u001b[0m\n\u001b[1;32m     26\u001b[0m \u001b[0;34m\u001b[0m\u001b[0m\n\u001b[1;32m     27\u001b[0m \u001b[0;34m\u001b[0m\u001b[0m\n\u001b[0;32m---> 28\u001b[0;31m \u001b[0mGraphday\u001b[0m\u001b[0;34m(\u001b[0m\u001b[0mX\u001b[0m\u001b[0;34m,\u001b[0m\u001b[0;36m1\u001b[0m\u001b[0;34m)\u001b[0m\u001b[0;34m\u001b[0m\u001b[0m\n\u001b[0m\u001b[1;32m     29\u001b[0m \u001b[0mplt\u001b[0m\u001b[0;34m.\u001b[0m\u001b[0mshow\u001b[0m\u001b[0;34m(\u001b[0m\u001b[0;34m)\u001b[0m\u001b[0;34m\u001b[0m\u001b[0m\n",
      "\u001b[0;32m<ipython-input-22-c8471d7fcd9d>\u001b[0m in \u001b[0;36mGraphday\u001b[0;34m(X, day)\u001b[0m\n\u001b[1;32m      5\u001b[0m \u001b[0;34m\u001b[0m\u001b[0m\n\u001b[1;32m      6\u001b[0m     \u001b[0;32mfor\u001b[0m \u001b[0mu\u001b[0m \u001b[0;32min\u001b[0m \u001b[0mrange\u001b[0m\u001b[0;34m(\u001b[0m\u001b[0musers\u001b[0m\u001b[0;34m)\u001b[0m \u001b[0;34m:\u001b[0m\u001b[0;34m\u001b[0m\u001b[0m\n\u001b[0;32m----> 7\u001b[0;31m             \u001b[0;32mfor\u001b[0m \u001b[0mn\u001b[0m \u001b[0;32min\u001b[0m \u001b[0mnearest_neighbours\u001b[0m\u001b[0;34m[\u001b[0m\u001b[0mday\u001b[0m\u001b[0;34m]\u001b[0m\u001b[0;34m[\u001b[0m\u001b[0mu\u001b[0m\u001b[0;34m]\u001b[0m \u001b[0;34m:\u001b[0m\u001b[0;34m\u001b[0m\u001b[0m\n\u001b[0m\u001b[1;32m      8\u001b[0m                 \u001b[0mG1\u001b[0m\u001b[0;34m.\u001b[0m\u001b[0madd_edge\u001b[0m\u001b[0;34m(\u001b[0m\u001b[0mu\u001b[0m\u001b[0;34m,\u001b[0m\u001b[0mn\u001b[0m\u001b[0;34m)\u001b[0m\u001b[0;34m\u001b[0m\u001b[0m\n\u001b[1;32m      9\u001b[0m \u001b[0;34m\u001b[0m\u001b[0m\n",
      "\u001b[0;31mKeyError\u001b[0m: 0"
     ]
    }
   ],
   "source": [
    "def Graphday(X , day) :\n",
    "    G1 = nx.Graph()\n",
    "    X1 = X[X.uDays == day]\n",
    "    X1 = X1.sort_values([\"ind\"])\n",
    "\n",
    "    for u in range(users) : \n",
    "            for n in nearest_neighbours[day][u] :\n",
    "                G1.add_edge(u,n)\n",
    "\n",
    "    pos1 = nx.circular_layout(G1)\n",
    "    incols = np.array([\"red\",\"green\",\"blue\"])\n",
    "\n",
    "    m = np.sum(O[day] , axis =1)\n",
    "    for i in range(users) :\n",
    "        pos1[i][0] = m[i] + np.random.normal(scale =0.2)\n",
    "        pos1[i][1] += np.random.normal(scale =0.2)\n",
    "\n",
    "    plt.figure(1,figsize=(15,12)) \n",
    "    plt.xlim( (np.min(m) -1 , np.max(m) +1) )\n",
    "    nx.draw_networkx(G1,\n",
    "                     node_size= X1.deg*100, \n",
    "                     pos = pos1,\n",
    "                     node_color= incols[np.array(X1.incl +1)], \n",
    "                     with_labels=False,\n",
    "                     width=0.1)\n",
    "    \n",
    "    \n",
    "Graphday(X,1)\n",
    "plt.show()"
   ]
  },
  {
   "cell_type": "code",
   "execution_count": 23,
   "metadata": {},
   "outputs": [
    {
     "data": {
      "image/png": "[encoded data removed]",
      "text/plain": [
       "<matplotlib.figure.Figure at 0x119126320>"
      ]
     },
     "metadata": {},
     "output_type": "display_data"
    }
   ],
   "source": [
    "# DEGREE DISTRIBUTION\n",
    "plt.hist(X1.deg, range=(0,20))\n",
    "plt.show()"
   ]
  },
  {
   "cell_type": "markdown",
   "metadata": {},
   "source": [
    "## 4) Equilibrium time in sum(opinions) vs time plot "
   ]
  },
  {
   "cell_type": "code",
   "execution_count": 24,
   "metadata": {},
   "outputs": [],
   "source": [
    "# defining dictiorary time: sum of opinions at that time\n",
    "O_t={}\n",
    "for i in O.keys():\n",
    "    # list of vector to sum\n",
    "    vec_list=[O[i][j] for j in range(users)]\n",
    "    # summing vectors\n",
    "    O_t[i] = np.sum( vec_list, axis=0 )\n",
    "#O_t"
   ]
  },
  {
   "cell_type": "code",
   "execution_count": 25,
   "metadata": {},
   "outputs": [
    {
     "data": {
      "text/plain": [
       "Text(0,0.5,'$Opinions$')"
      ]
     },
     "execution_count": 25,
     "metadata": {},
     "output_type": "execute_result"
    },
    {
     "data": {
      "image/png": "[encoded data removed]",
      "text/plain": [
       "<matplotlib.figure.Figure at 0x117c4e6a0>"
      ]
     },
     "metadata": {},
     "output_type": "display_data"
    }
   ],
   "source": [
    "plt.figure(figsize=(10,7))\n",
    "for i in range(companies):\n",
    "    Y_comp=[O_t[j+1][i] for j in range(uDays)]\n",
    "    plt.scatter( y=Y_comp , x=range(uDays) )\n",
    "\n",
    "plt.xticks(fontsize=12)\n",
    "plt.yticks(fontsize=12)\n",
    "plt.xlabel('$time$', fontsize=17)\n",
    "plt.ylabel('$Opinions$', fontsize=17)"
   ]
  },
  {
   "cell_type": "code",
   "execution_count": 48,
   "metadata": {},
   "outputs": [
    {
     "ename": "IndexError",
     "evalue": "list index out of range",
     "output_type": "error",
     "traceback": [
      "\u001b[0;31m---------------------------------------------------------------------------\u001b[0m",
      "\u001b[0;31mIndexError\u001b[0m                                Traceback (most recent call last)",
      "\u001b[0;32m<ipython-input-48-40e2ff267ec8>\u001b[0m in \u001b[0;36m<module>\u001b[0;34m()\u001b[0m\n\u001b[1;32m      2\u001b[0m \u001b[0;32mfor\u001b[0m \u001b[0mi\u001b[0m \u001b[0;32min\u001b[0m \u001b[0mrange\u001b[0m\u001b[0;34m(\u001b[0m\u001b[0mlen\u001b[0m\u001b[0;34m(\u001b[0m\u001b[0mY_comp\u001b[0m\u001b[0;34m)\u001b[0m\u001b[0;34m)\u001b[0m\u001b[0;34m:\u001b[0m\u001b[0;34m\u001b[0m\u001b[0m\n\u001b[1;32m      3\u001b[0m     \u001b[0;31m#print(Y_comp[i])\u001b[0m\u001b[0;34m\u001b[0m\u001b[0;34m\u001b[0m\u001b[0m\n\u001b[0;32m----> 4\u001b[0;31m     \u001b[0;32mif\u001b[0m\u001b[0;34m(\u001b[0m \u001b[0mnp\u001b[0m\u001b[0;34m.\u001b[0m\u001b[0marray_equal\u001b[0m\u001b[0;34m(\u001b[0m\u001b[0mY_comp\u001b[0m\u001b[0;34m[\u001b[0m\u001b[0mi\u001b[0m\u001b[0;34m]\u001b[0m\u001b[0;34m,\u001b[0m\u001b[0mY_comp\u001b[0m\u001b[0;34m[\u001b[0m\u001b[0mi\u001b[0m\u001b[0;34m+\u001b[0m\u001b[0;36m6\u001b[0m\u001b[0;34m]\u001b[0m\u001b[0;34m)\u001b[0m\u001b[0;34m)\u001b[0m\u001b[0;34m:\u001b[0m\u001b[0;34m\u001b[0m\u001b[0m\n\u001b[0m\u001b[1;32m      5\u001b[0m         \u001b[0mprint\u001b[0m\u001b[0;34m(\u001b[0m\u001b[0;34m'Equilibrium time is '\u001b[0m\u001b[0;34m+\u001b[0m \u001b[0mstr\u001b[0m\u001b[0;34m(\u001b[0m\u001b[0mt\u001b[0m\u001b[0;34m)\u001b[0m\u001b[0;34m)\u001b[0m\u001b[0;34m\u001b[0m\u001b[0m\n\u001b[1;32m      6\u001b[0m         \u001b[0;32mbreak\u001b[0m\u001b[0;34m\u001b[0m\u001b[0m\n",
      "\u001b[0;31mIndexError\u001b[0m: list index out of range"
     ]
    }
   ],
   "source": [
    "t=0\n",
    "for i in range(len(Y_comp)):\n",
    "    #print(Y_comp[i])\n",
    "    if( np.array_equal(Y_comp[i],Y_comp[i+6])):\n",
    "        print('Equilibrium time is '+ str(t))\n",
    "        break\n",
    "    else: \n",
    "        t+=1"
   ]
  },
  {
   "cell_type": "markdown",
   "metadata": {},
   "source": [
    "##### 3) Histrogram opinions - companies"
   ]
  },
  {
   "cell_type": "code",
   "execution_count": 50,
   "metadata": {},
   "outputs": [
    {
     "data": {
      "text/plain": [
       "Text(0.5,0,'$Company-index$')"
      ]
     },
     "execution_count": 50,
     "metadata": {},
     "output_type": "execute_result"
    },
    {
     "data": {
      "image/png": "[encoded data removed]",
      "text/plain": [
       "<matplotlib.figure.Figure at 0x1197afa58>"
      ]
     },
     "metadata": {},
     "output_type": "display_data"
    }
   ],
   "source": [
    "# CHOOSE DAY\n",
    "day=1\n",
    "plt.figure(figsize=(10,7))\n",
    "\n",
    "colors=[]\n",
    "for i in O_t[day]:\n",
    "    if(i<0): colors.append('red')\n",
    "    if(i>0): colors.append('blue')\n",
    "        \n",
    "# histogram\n",
    "bar([i for i in range(companies)], list(O_t[day]), color=np.array(colors))\n",
    "\n",
    "plt.xticks(fontsize=12)\n",
    "plt.yticks(fontsize=12)\n",
    "plt.ylabel('$Cumulative-Opinion$', fontsize=17)\n",
    "plt.xlabel('$Company-index$', fontsize=17)"
   ]
  },
  {
   "cell_type": "code",
   "execution_count": null,
   "metadata": {},
   "outputs": [],
   "source": []
  },
  {
   "cell_type": "code",
   "execution_count": null,
   "metadata": {},
   "outputs": [],
   "source": []
  },
  {
   "cell_type": "code",
   "execution_count": null,
   "metadata": {},
   "outputs": [],
   "source": []
  },
  {
   "cell_type": "code",
   "execution_count": null,
   "metadata": {},
   "outputs": [],
   "source": []
  },
  {
   "cell_type": "code",
   "execution_count": null,
   "metadata": {},
   "outputs": [],
   "source": []
  },
  {
   "cell_type": "code",
   "execution_count": null,
   "metadata": {},
   "outputs": [],
   "source": []
  },
  {
   "cell_type": "code",
   "execution_count": null,
   "metadata": {},
   "outputs": [],
   "source": []
  },
  {
   "cell_type": "code",
   "execution_count": null,
   "metadata": {},
   "outputs": [],
   "source": []
  },
  {
   "cell_type": "code",
   "execution_count": null,
   "metadata": {},
   "outputs": [],
   "source": []
  },
  {
   "cell_type": "code",
   "execution_count": null,
   "metadata": {},
   "outputs": [],
   "source": []
  },
  {
   "cell_type": "code",
   "execution_count": null,
   "metadata": {},
   "outputs": [],
   "source": []
  },
  {
   "cell_type": "code",
   "execution_count": 33,
   "metadata": {},
   "outputs": [
    {
     "data": {
      "text/plain": [
       "0    [1, 2, 3]\n",
       "1       [4, 6]\n",
       "2    [4, 6, 4]\n",
       "Name: arrays, dtype: object"
      ]
     },
     "execution_count": 33,
     "metadata": {},
     "output_type": "execute_result"
    }
   ],
   "source": [
    "feX = pd.Series( [np.array([1,2,3]) , np.array([4,6]), np.array([4,6,4])])\n",
    "feX.name = \"arrays\"\n",
    "feX"
   ]
  },
  {
   "cell_type": "code",
   "execution_count": null,
   "metadata": {},
   "outputs": [],
   "source": []
  },
  {
   "cell_type": "code",
   "execution_count": null,
   "metadata": {},
   "outputs": [],
   "source": []
  },
  {
   "cell_type": "code",
   "execution_count": null,
   "metadata": {},
   "outputs": [],
   "source": []
  },
  {
   "cell_type": "code",
   "execution_count": null,
   "metadata": {},
   "outputs": [],
   "source": []
  }
 ],
 "metadata": {
  "kernelspec": {
   "display_name": "Python 3",
   "language": "python",
   "name": "python3"
  },
  "language_info": {
   "codemirror_mode": {
    "name": "ipython",
    "version": 3
   },
   "file_extension": ".py",
   "mimetype": "text/x-python",
   "name": "python",
   "nbconvert_exporter": "python",
   "pygments_lexer": "ipython3",
   "version": "3.6.0"
  }
 },
 "nbformat": 4,
 "nbformat_minor": 2
}
