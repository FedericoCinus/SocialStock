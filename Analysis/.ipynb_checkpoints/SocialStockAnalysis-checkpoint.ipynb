{
 "cells": [
  {
   "cell_type": "markdown",
   "metadata": {},
   "source": [
    "# SocialStock Data Analysis\n",
    "\n",
    "This notebook has the following objectives:\n",
    "\n",
    "1) find equilibrium time in IncDistr vs time plot <br>\n",
    "2) visualize the social network each day of the simulation <br>\n",
    "3) show histogram about opinion sum and companies' indexes <br>\n",
    "4) find equilibrium time in opinions vs time plot"
   ]
  },
  {
   "cell_type": "code",
   "execution_count": 25,
   "metadata": {},
   "outputs": [],
   "source": [
    "# SETTING THE PARAMETERS\n",
    "companies=2\n",
    "op_range=10\n",
    "users=10"
   ]
  },
  {
   "cell_type": "code",
   "execution_count": 26,
   "metadata": {},
   "outputs": [],
   "source": [
    "# IMPORTING LIBRARIES\n",
    "import networkx as nx\n",
    "import pandas as pd\n",
    "\n",
    "import numpy as np\n",
    "#from matplotlib import pyplot as plt\n",
    "\n",
    "import seaborn as sns\n",
    "sns.set()"
   ]
  },
  {
   "cell_type": "code",
   "execution_count": 27,
   "metadata": {},
   "outputs": [
    {
     "name": "stdout",
     "output_type": "stream",
     "text": [
      "Populating the interactive namespace from numpy and matplotlib\n"
     ]
    }
   ],
   "source": [
    "%pylab inline"
   ]
  },
  {
   "cell_type": "markdown",
   "metadata": {},
   "source": [
    "## 1) Equilibrium time in IncDistr vs time plot "
   ]
  },
  {
   "cell_type": "code",
   "execution_count": 28,
   "metadata": {},
   "outputs": [
    {
     "name": "stdout",
     "output_type": "stream",
     "text": [
      "/home/federico/git/JadeProjects/SocialStock\n"
     ]
    }
   ],
   "source": [
    "from pathlib import Path\n",
    "d = Path().resolve().parent \n",
    "print(str(d))\n"
   ]
  },
  {
   "cell_type": "code",
   "execution_count": 29,
   "metadata": {},
   "outputs": [
    {
     "name": "stdout",
     "output_type": "stream",
     "text": [
      "/home/federico/git/JadeProjects/SocialStock/data/c2r10n10\n"
     ]
    }
   ],
   "source": [
    "# IMPORTING DATASET FOR 1) AND 2)\n",
    "from pathlib import Path\n",
    "d = Path().resolve().parent \n",
    "data = str(d) + \"/data/c\"+str(companies)+\"r\"+str(op_range)+\"n\"+str(users)\n",
    "print(data)\n",
    "file = open( data + \"Int.txt\")\n",
    "\n",
    "tit = file.readline()\n",
    "\n",
    "X = []\n",
    "nn = {}\n",
    "\n",
    "for l in file.readlines() :\n",
    "    line = l.split(\":\")\n",
    "    line[0:4] = [int(i) for i in line[0:4]]\n",
    "    line[4] = [int(i) for i in line[4][1:-2].split(\", \")]\n",
    "    X.append(line[0:4])\n",
    "    nn[ (line[0],line[1]) ] = line[4]\n",
    "\n",
    "X = np.array(X)\n",
    "X = pd.DataFrame(X) \n",
    "\n",
    "tit = tit.split(\"-\")[:-1]\n",
    "X.columns = tit\n",
    "X.sort_values([\"uDays\" , \"ind\"])\n",
    "\n",
    "X1 = X[X.uDays==1]\n",
    "\n",
    "uDays = int(X.shape[0]/users)\n",
    "Deg = np.array(X1.sort_values(\"ind\").deg)\n",
    "\n",
    "##nearest_neighbours[4]\n",
    "\n",
    "#dizionario dei nearest neighbours nel quarto giorno\n",
    "#si hanno tante key-value pairs quante gli user\n",
    "\n",
    "# key : indice dello user\n",
    "# value : lista con gli indici della callout list \n",
    "nearest_neighbours = {}\n",
    "\n",
    "for d in range(uDays) :\n",
    "    nearest_neighbours[d+1] = {}\n",
    "    for u in range(users) :\n",
    "        nearest_neighbours[d+1][u] = nn[(d+1,u)]"
   ]
  },
  {
   "cell_type": "code",
   "execution_count": null,
   "metadata": {},
   "outputs": [],
   "source": [
    "IncDistr = []\n",
    "for d in range(uDays):\n",
    "    IncDistr.append(np.unique(X[X.uDays==d+1].incl, return_counts= True)[1])\n",
    "IncDistr = np.array(IncDistr)\n",
    "\n",
    "plt.figure(figsize=(10,7))\n",
    "plt.scatter(y=IncDistr[:,0] , x=range(uDays) , color = \"red\" )\n",
    "plt.scatter(y=IncDistr[:,1] , x=range(uDays) , color = \"green\")\n",
    "plt.scatter(y=IncDistr[:,2] , x=range(uDays) , color = \"blue\")\n",
    "\n",
    "plt.xticks(fontsize=12)\n",
    "plt.yticks(fontsize=12)\n",
    "plt.xlabel('$time$', fontsize=17)\n",
    "plt.ylabel('$IncDistr$', fontsize=17)"
   ]
  },
  {
   "cell_type": "code",
   "execution_count": null,
   "metadata": {},
   "outputs": [],
   "source": [
    "t=0\n",
    "IncDistr_t=[]\n",
    "for i in IncDistr:\n",
    "    if( np.array_equal(i,IncDistr_t) ):\n",
    "        print('Equilibrium time is '+ str(t))\n",
    "        break\n",
    "    else: \n",
    "        IncDistr_t=[j for j in i]\n",
    "        t+=1"
   ]
  },
  {
   "cell_type": "markdown",
   "metadata": {},
   "source": [
    "## 2) Visualize Network of Day 1"
   ]
  },
  {
   "cell_type": "code",
   "execution_count": null,
   "metadata": {},
   "outputs": [],
   "source": [
    "def Graphday(X , day) :\n",
    "    G1 = nx.Graph()\n",
    "    X1 = X[X.uDays == day]\n",
    "    X1 = X1.sort_values([\"ind\"])\n",
    "\n",
    "    for u in range(users) : \n",
    "            for n in nearest_neighbours[day][u] :\n",
    "                G1.add_edge(u,n)\n",
    "\n",
    "    pos1 = nx.circular_layout(G1)\n",
    "    incols = np.array([\"red\",\"green\",\"blue\"])\n",
    "\n",
    "    m = np.sum(O[day] , axis =1)\n",
    "    for i in range(users) :\n",
    "        pos1[i][0] = m[i] + np.random.normal(scale =0.2)\n",
    "        pos1[i][1] += np.random.normal(scale =0.2)\n",
    "\n",
    "    plt.figure(1,figsize=(15,12)) \n",
    "\n",
    "    nx.draw_networkx(G1,\n",
    "                     node_size= X1.deg*10, \n",
    "                     pos = pos1,\n",
    "                     node_color= incols[np.array(X1.incl +1)], \n",
    "                     with_labels=False,\n",
    "                     width=0.1)\n",
    "    \n",
    "Graphday(X,1)\n",
    "plt.show()"
   ]
  },
  {
   "cell_type": "code",
   "execution_count": null,
   "metadata": {},
   "outputs": [],
   "source": [
    "# DEGREE DISTRIBUTION\n",
    "plt.hist(X1.deg, range=(0,20))\n",
    "plt.show()"
   ]
  },
  {
   "cell_type": "markdown",
   "metadata": {},
   "source": [
    "## 4) Equilibrium time in sum(opinions) vs time plot "
   ]
  },
  {
   "cell_type": "code",
   "execution_count": null,
   "metadata": {},
   "outputs": [],
   "source": [
    "# OPINION MATRIX\n",
    "data = \"/Users/Cinus/University/Magistrale_Sistemi_Complessi_Torino/MAS/GitHub/SocialStock/data/c\"+str(companies)+\"r\"+str(op_range)+\"n\"+str(users)\n",
    "\n",
    "file = open( data + \".txt\")\n",
    "tit = file.readline()\n",
    "\n",
    "Op = []\n",
    "\n",
    "for l in file.readlines() :\n",
    "    line = (l.split(\",\"))\n",
    "    line[companies-1] = line[companies-1][:-2]\n",
    "    line = [float(i) for i in line]\n",
    "    Op.append(line)\n",
    "    \n",
    "# O is a dictionary with: (key : day) (value : opinion matrix of that day)    \n",
    "O = {}\n",
    "index = 0\n",
    "for d in range(uDays) :\n",
    "    O[d+1] = np.array(Op[index:(index + users)])\n",
    "    index = index + users"
   ]
  },
  {
   "cell_type": "code",
   "execution_count": null,
   "metadata": {},
   "outputs": [],
   "source": [
    "# defining dictiorary time: sum of opinions at that time\n",
    "O_t={}\n",
    "for i in O.keys():\n",
    "    # list of vector to sum\n",
    "    vec_list=[O[i][j] for j in range(users)]\n",
    "    # summing vectors\n",
    "    O_t[i] = np.sum( vec_list, axis=0 )\n",
    "O_t"
   ]
  },
  {
   "cell_type": "code",
   "execution_count": null,
   "metadata": {},
   "outputs": [],
   "source": [
    "plt.figure(figsize=(10,7))\n",
    "for i in range(companies):\n",
    "    Y_comp=[O_t[j+1][i] for j in range(uDays)]\n",
    "    plt.scatter( y=Y_comp , x=range(uDays) )\n",
    "\n",
    "plt.xticks(fontsize=12)\n",
    "plt.yticks(fontsize=12)\n",
    "plt.xlabel('$time$', fontsize=17)\n",
    "plt.ylabel('$Opinions$', fontsize=17)"
   ]
  },
  {
   "cell_type": "code",
   "execution_count": null,
   "metadata": {},
   "outputs": [],
   "source": [
    "t=0\n",
    "for i in range(len(Y_comp)):\n",
    "    #print(Y_comp[i])\n",
    "    if( np.array_equal(Y_comp[i],Y_comp[i+6])):\n",
    "        print('Equilibrium time is '+ str(t))\n",
    "        break\n",
    "    else: \n",
    "        t+=1"
   ]
  },
  {
   "cell_type": "markdown",
   "metadata": {},
   "source": [
    "##### 3) Histrogram opinions - companies"
   ]
  },
  {
   "cell_type": "code",
   "execution_count": null,
   "metadata": {},
   "outputs": [],
   "source": [
    "# CHOOSE DAY\n",
    "day=1\n",
    "plt.figure(figsize=(10,7))\n",
    "\n",
    "colors=[]\n",
    "for i in O_t[day]:\n",
    "    if(i<0): colors.append('red')\n",
    "    if(i>0): colors.append('blue')\n",
    "        \n",
    "# histogram\n",
    "bar([i for i in range(companies)], list(O_t[day]), color=np.array(colors))\n",
    "\n",
    "plt.xticks(fontsize=12)\n",
    "plt.yticks(fontsize=12)\n",
    "plt.ylabel('$Cumulative-Opinion$', fontsize=17)\n",
    "plt.xlabel('$Company-index$', fontsize=17)"
   ]
  }
 ],
 "metadata": {
  "kernelspec": {
   "display_name": "Python 2",
   "language": "python",
   "name": "python2"
  },
  "language_info": {
   "codemirror_mode": {
    "name": "ipython",
    "version": 2
   },
   "file_extension": ".py",
   "mimetype": "text/x-python",
   "name": "python",
   "nbconvert_exporter": "python",
   "pygments_lexer": "ipython2",
   "version": "2.7.12"
  }
 },
 "nbformat": 4,
 "nbformat_minor": 2
}
